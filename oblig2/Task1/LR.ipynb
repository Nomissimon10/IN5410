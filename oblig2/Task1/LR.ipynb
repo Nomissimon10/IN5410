{
 "cells": [
  {
   "cell_type": "code",
   "execution_count": null,
   "metadata": {},
   "outputs": [],
   "source": [
    "import pandas as pd\n",
    "import os\n",
    "from sklearn.linear_model import LinearRegression\n",
    "from sklearn.model_selection import train_test_split\n",
    "from sklearn.metrics import mean_squared_error\n",
    "import numpy as np\n",
    "import matplotlib.pyplot as plt"
   ]
  },
  {
   "cell_type": "code",
   "execution_count": null,
   "metadata": {},
   "outputs": [],
   "source": [
    "# Get path of current working directory\n",
    "working_dir = os.getcwd()"
   ]
  },
  {
   "cell_type": "code",
   "execution_count": null,
   "metadata": {},
   "outputs": [],
   "source": [
    "# Prepare train-data\n",
    "train_data = pd.read_csv(f\"{working_dir}/../data/TrainData.csv\")\n",
    "X_train = train_data[\"WS10\"].values.reshape(-1, 1)  # Features: wind speed at 10m\n",
    "y_train = train_data[\"POWER\"].values.reshape(-1, 1)  # Target: power generation"
   ]
  },
  {
   "cell_type": "code",
   "execution_count": null,
   "metadata": {},
   "outputs": [],
   "source": [
    "# Train model\n",
    "lin_reg = LinearRegression()\n",
    "lin_reg.fit(X_train, y_train)"
   ]
  },
  {
   "cell_type": "code",
   "execution_count": null,
   "metadata": {},
   "outputs": [],
   "source": [
    "#\n",
    "weather_forecast = pd.read_csv(f\"{working_dir}/../data/WeatherForecastInput.csv\")\n",
    "X_test = weather_forecast[\"WS10\"].values.reshape(-1, 1)\n",
    "y_pred = lin_reg.predict(X_test)\n",
    "\n",
    "# Save predictions to file\n",
    "forecast_template = pd.read_csv(f\"{working_dir}/../data/ForecastTemplate.csv\")\n",
    "forecast_template['FORECAST'] = y_pred\n",
    "forecast_template.to_csv(f\"{working_dir}/results/ForecastTemplate1-LR.csv\", index=False)"
   ]
  },
  {
   "cell_type": "code",
   "execution_count": null,
   "metadata": {},
   "outputs": [],
   "source": [
    "solution = pd.read_csv(f\"{working_dir}/../data/Solution.csv\")\n",
    "y_true = solution[\"POWER\"].values.reshape(-1, 1)\n",
    "\n",
    "rmse = np.sqrt(mean_squared_error(y_true, y_pred))\n",
    "print(\"RMSE for linear regression model:\", rmse)"
   ]
  },
  {
   "cell_type": "code",
   "execution_count": null,
   "metadata": {},
   "outputs": [],
   "source": [
    "# True vs. Predicted Wind Power (Linear Regression)\n",
    "# Create a time index for plotting\n",
    "time_index = pd.to_datetime(weather_forecast['TIMESTAMP'])\n",
    "\n",
    "# Plot the true wind energy measurements and predicted results\n",
    "plt.figure(figsize=(14, 6))\n",
    "plt.plot(time_index, y_true, label=\"True Wind Power\", color='blue', alpha=0.7)\n",
    "plt.plot(time_index, y_pred, label=\"Predicted Wind Power (LR)\", color='red', alpha=0.7)\n",
    "plt.xlabel(\"Time\")\n",
    "plt.ylabel(\"Normalized Wind Power\")\n",
    "plt.title(\"True vs. Predicted Wind Power (Linear Regression)\")\n",
    "plt.legend()\n",
    "plt.show()"
   ]
  }
 ],
 "metadata": {
  "kernelspec": {
   "display_name": "Python 3",
   "language": "python",
   "name": "python3"
  },
  "language_info": {
   "codemirror_mode": {
    "name": "ipython",
    "version": 3
   },
   "file_extension": ".py",
   "mimetype": "text/x-python",
   "name": "python",
   "nbconvert_exporter": "python",
   "pygments_lexer": "ipython3",
   "version": "3.9.13"
  },
  "orig_nbformat": 4
 },
 "nbformat": 4,
 "nbformat_minor": 2
}
