{
 "cells": [
  {
   "cell_type": "code",
   "execution_count": 2,
   "metadata": {},
   "outputs": [],
   "source": [
    "import pandas as pd\n",
    "import numpy as np\n",
    "import os\n",
    "import matplotlib.pyplot as plt\n",
    "from sklearn.linear_model import LinearRegression\n",
    "from sklearn.svm import SVR\n",
    "from sklearn.metrics import mean_squared_error\n",
    "from tensorflow.keras.models import Sequential\n",
    "from tensorflow.keras.layers import Dense, LSTM, SimpleRNN\n",
    "import tensorflow as tf\n",
    "from sklearn.preprocessing import MinMaxScaler\n",
    "from tabulate import tabulate"
   ]
  },
  {
   "cell_type": "code",
   "execution_count": 3,
   "metadata": {},
   "outputs": [],
   "source": [
    "working_dir = os.getcwd()\n",
    "windowsize = 2\n",
    "epochs = 10"
   ]
  },
  {
   "cell_type": "code",
   "execution_count": 4,
   "metadata": {},
   "outputs": [],
   "source": [
    "def read_training_data():\n",
    "    df = pd.read_csv(f\"{working_dir}/../data/TrainData.csv\", sep=',')\n",
    "    windspeed_training = df[\"WS10\"].to_numpy().reshape((-1, 1))\n",
    "    power_training = df[\"POWER\"].to_numpy()\n",
    "    u = df[\"U10\"].to_numpy()\n",
    "    v = df[\"V10\"].to_numpy()\n",
    "    wind_direction_training = np.mod(180 + np.rad2deg(np.arctan2(v, u)), 360)\n",
    "\n",
    "    return windspeed_training, power_training, wind_direction_training\n",
    "\n",
    "\n",
    "def read_input_data():\n",
    "    df = pd.read_csv(f\"{working_dir}/../data/WeatherForecastInput.csv\", sep=',')\n",
    "    windspeed_input = df[\"WS10\"].to_numpy().reshape((-1, 1))\n",
    "    u_input = df[\"U10\"].to_numpy()\n",
    "    v_input = df[\"V10\"].to_numpy()\n",
    "    direction_input = np.mod(180 + np.rad2deg(np.arctan2(v_input, u_input)), 360).reshape((-1, 1))\n",
    "    windspeed_and_direction_input = np.concatenate((windspeed_input, direction_input), axis=1)\n",
    "\n",
    "    return windspeed_input, direction_input, windspeed_and_direction_input\n",
    "\n",
    "def read_solution():\n",
    "    df = pd.read_csv(f\"{working_dir}/../data/Solution.csv\", sep=',')\n",
    "    actual_power = df[\"POWER\"].to_numpy()\n",
    "    timestamp = df[\"TIMESTAMP\"].to_numpy()\n",
    "\n",
    "    return actual_power, timestamp"
   ]
  },
  {
   "cell_type": "code",
   "execution_count": 5,
   "metadata": {},
   "outputs": [],
   "source": [
    "def create_timeseries(powers, windowsize):\n",
    "    rows = len(powers) - windowsize\n",
    "    x = np.zeros((rows, windowsize))\n",
    "    y = np.zeros(rows)\n",
    "\n",
    "    for i in range(rows):\n",
    "        for j in range(windowsize):\n",
    "            x[i][j] = powers[i + j]\n",
    "\n",
    "        y[i] = powers[i + windowsize]\n",
    "\n",
    "    return x, y"
   ]
  },
  {
   "cell_type": "code",
   "execution_count": 6,
   "metadata": {},
   "outputs": [],
   "source": [
    "training_data = read_training_data()\n",
    "windspeed_training = training_data[0]\n",
    "power_training = training_data[1]\n",
    "\n",
    "input_data = read_input_data()\n",
    "windspeed_input = input_data[0]\n",
    "wind_direction = input_data[1]\n",
    "windspeed_and_direction_input = input_data[2]\n",
    "\n",
    "solution = read_solution()\n",
    "actual_power = solution[0]\n",
    "timestamp = solution[1]"
   ]
  },
  {
   "cell_type": "code",
   "execution_count": 7,
   "metadata": {},
   "outputs": [],
   "source": [
    "x, y = create_timeseries(power_training, windowsize)\n",
    "forecast_input = create_timeseries(actual_power, windowsize)[0]"
   ]
  },
  {
   "cell_type": "code",
   "execution_count": 8,
   "metadata": {},
   "outputs": [],
   "source": [
    "def regression(x, y, model, forecast_input, actual_power, windowsize):\n",
    "    # Train model\n",
    "    model.fit(x, y)\n",
    "    # Predict using trained model\n",
    "    y_pred = model.predict(forecast_input)\n",
    "\n",
    "    # Calculate RMSE\n",
    "    power_comparison = actual_power[windowsize:]\n",
    "    rmse = np.sqrt(mean_squared_error(power_comparison, y_pred))\n",
    "\n",
    "    # Return the results of RMSE and the predicted power\n",
    "    return y_pred, rmse"
   ]
  },
  {
   "cell_type": "code",
   "execution_count": 9,
   "metadata": {},
   "outputs": [],
   "source": [
    "def ann_model(x, y, forecast_input, actual_power, windowsize, epochs):\n",
    "    # Process Variables\n",
    "    scaler = MinMaxScaler()\n",
    "    X = scaler.fit_transform(x)\n",
    "\n",
    "    input_data = scaler.transform(forecast_input)\n",
    "    input_data = input_data.reshape(-1, 1, windowsize)\n",
    "    \n",
    "    # Create Model\n",
    "    model = Sequential()\n",
    "    model.add(Dense(32, activation='relu', input_dim=1))\n",
    "    model.add(Dense(16, activation='relu'))\n",
    "    model.add(Dense(1, activation='linear'))\n",
    "\n",
    "    model.compile(optimizer='adam', loss='mse', metrics=[tf.keras.metrics.RootMeanSquaredError()])\n",
    "\n",
    "    # Train model\n",
    "    model.fit(X, y, epochs=epochs, batch_size=32)\n",
    "\n",
    "    # Predict using trained model\n",
    "    y_pred_scaled = model.predict(input_data)\n",
    "\n",
    "    y_pred_ann = scaler.inverse_transform(y_pred_scaled)\n",
    "\n",
    "    # Calculate RMSE\n",
    "    power_comparison = actual_power[windowsize:]\n",
    "    rmse = np.sqrt(mean_squared_error(power_comparison, y_pred_ann))\n",
    "\n",
    "    return y_pred_ann, rmse"
   ]
  },
  {
   "cell_type": "code",
   "execution_count": 10,
   "metadata": {},
   "outputs": [],
   "source": [
    "def rnn_model(x, y, forecast_input, actual_power, windowsize, epochs):\n",
    "    # Process Variables\n",
    "    scaler = MinMaxScaler()\n",
    "    X = scaler.fit_transform(x)\n",
    "\n",
    "    input_data = scaler.transform(forecast_input)\n",
    "    input_data = input_data.reshape(-1, 1, windowsize)\n",
    "\n",
    "    # Create Model\n",
    "    model = Sequential()\n",
    "    model.add(SimpleRNN(units=32, input_shape=(1, windowsize), activation='relu'))\n",
    "    model.add(Dense(1))\n",
    "    model.compile(loss='mean_squared_error', optimizer='adam')\n",
    "\n",
    "     # Train model\n",
    "    model.fit(X, y, epochs=epochs, batch_size=32)\n",
    "\n",
    "    # Predict using trained model\n",
    "    y_pred_scaled = model.predict(input_data)\n",
    "\n",
    "    y_pred_rnn = scaler.inverse_transform(y_pred_scaled)\n",
    "\n",
    "    # Calculate RMSE\n",
    "    power_comparison = actual_power[windowsize:]\n",
    "    rmse = np.sqrt(mean_squared_error(power_comparison, y_pred_rnn))\n",
    "\n",
    "    return y_pred_rnn, rmse"
   ]
  },
  {
   "cell_type": "code",
   "execution_count": 11,
   "metadata": {},
   "outputs": [
    {
     "name": "stdout",
     "output_type": "stream",
     "text": [
      "Epoch 1/10\n",
      "503/503 [==============================] - 2s 2ms/step - loss: 0.0301 - root_mean_squared_error: 0.1736\n",
      "Epoch 2/10\n",
      "503/503 [==============================] - 1s 2ms/step - loss: 0.0115 - root_mean_squared_error: 0.1072\n",
      "Epoch 3/10\n",
      "503/503 [==============================] - 1s 2ms/step - loss: 0.0115 - root_mean_squared_error: 0.1071\n",
      "Epoch 4/10\n",
      "503/503 [==============================] - 1s 2ms/step - loss: 0.0115 - root_mean_squared_error: 0.1074\n",
      "Epoch 5/10\n",
      "503/503 [==============================] - 1s 2ms/step - loss: 0.0115 - root_mean_squared_error: 0.1072\n",
      "Epoch 6/10\n",
      "503/503 [==============================] - 1s 1ms/step - loss: 0.0115 - root_mean_squared_error: 0.1074\n",
      "Epoch 7/10\n",
      "503/503 [==============================] - 1s 2ms/step - loss: 0.0115 - root_mean_squared_error: 0.1072\n",
      "Epoch 8/10\n",
      "503/503 [==============================] - 1s 1ms/step - loss: 0.0115 - root_mean_squared_error: 0.1072\n",
      "Epoch 9/10\n",
      "503/503 [==============================] - 1s 2ms/step - loss: 0.0115 - root_mean_squared_error: 0.1072\n",
      "Epoch 10/10\n",
      "503/503 [==============================] - 1s 2ms/step - loss: 0.0115 - root_mean_squared_error: 0.1072\n",
      "23/23 [==============================] - 0s 1ms/step\n"
     ]
    },
    {
     "ename": "NameError",
     "evalue": "name 'rmses' is not defined",
     "output_type": "error",
     "traceback": [
      "\u001b[1;31m---------------------------------------------------------------------------\u001b[0m",
      "\u001b[1;31mNameError\u001b[0m                                 Traceback (most recent call last)",
      "Cell \u001b[1;32mIn[11], line 6\u001b[0m\n\u001b[0;32m      3\u001b[0m svr \u001b[39m=\u001b[39m regression(x, y, SVR(), forecast_input, actual_power, windowsize)\n\u001b[0;32m      5\u001b[0m \u001b[39m# Neural Networks\u001b[39;00m\n\u001b[1;32m----> 6\u001b[0m ann \u001b[39m=\u001b[39m ann_model(x, y, forecast_input, actual_power, windowsize, epochs)\n\u001b[0;32m      7\u001b[0m rnn \u001b[39m=\u001b[39m rnn_model(x, y, forecast_input, actual_power, windowsize, epochs)\n\u001b[0;32m      9\u001b[0m \u001b[39m# Print results\u001b[39;00m\n",
      "Cell \u001b[1;32mIn[9], line 29\u001b[0m, in \u001b[0;36mann_model\u001b[1;34m(x, y, forecast_input, actual_power, windowsize, epochs)\u001b[0m\n\u001b[0;32m     26\u001b[0m power_comparison \u001b[39m=\u001b[39m actual_power[windowsize:]\n\u001b[0;32m     27\u001b[0m rmse \u001b[39m=\u001b[39m np\u001b[39m.\u001b[39msqrt(mean_squared_error(power_comparison, y_pred_ann))\n\u001b[1;32m---> 29\u001b[0m \u001b[39mreturn\u001b[39;00m y_pred_ann, rmses\n",
      "\u001b[1;31mNameError\u001b[0m: name 'rmses' is not defined"
     ]
    }
   ],
   "source": [
    "# Regressions\n",
    "lr = regression(x, y, LinearRegression(), forecast_input, actual_power, windowsize)\n",
    "svr = regression(x, y, SVR(), forecast_input, actual_power, windowsize)\n",
    "\n",
    "# Neural Networks\n",
    "ann = ann_model(x, y, forecast_input, actual_power, windowsize, epochs)\n",
    "rnn = rnn_model(x, y, forecast_input, actual_power, windowsize, epochs)\n",
    "\n",
    "# Print results\n",
    "print(f\"{'RMSE for LR model:':<20}{lr[1]}\")\n",
    "print(f\"{'RMSE for SVR model:':<20}{svr[1]}\")\n",
    "print(f\"{'RMSE for ANN model:':<20}{ann[1]}\")\n",
    "print(f\"{'RMSE for RNN model:':<20}{rnn[1]}\")"
   ]
  },
  {
   "cell_type": "code",
   "execution_count": null,
   "metadata": {},
   "outputs": [],
   "source": [
    "# # Save Results to Files\n",
    "# forecast_template = pd.read_csv(f'{working_dir}/../data/ForecastTemplate.csv')\n",
    "\n",
    "# # LR forecast template output\n",
    "# forecast_template['FORECAST'] = lr[0]\n",
    "# forecast_template.to_csv(f'{working_dir}/results/ForecastTemplate3-LR.csv', index=False)\n",
    "\n",
    "# # SVR forecast template\n",
    "# forecast_template['FORECAST'] = svr[0]\n",
    "# forecast_template.to_csv(f'{working_dir}/results/ForecastTemplate3-SVR.csv', index=False)\n",
    "\n",
    "# # ANN forecast template\n",
    "# forecast_template['FORECAST'] = ann[0]\n",
    "# forecast_template.to_csv(f'{working_dir}/results/ForecastTemplate3-ANN.csv', index=False)\n",
    "\n",
    "# # RNN forecast template\n",
    "# forecast_template['FORECAST'] = rnn[0]\n",
    "# forecast_template.to_csv(f'{working_dir}/results/ForecastTemplate3-RNN.csv', index=False)"
   ]
  },
  {
   "cell_type": "code",
   "execution_count": null,
   "metadata": {},
   "outputs": [],
   "source": [
    "# Plot the time-series figure for LR and SVR\n",
    "plt.figure(figsize=(14, 6))\n",
    "plt.plot(actual_power[windowsize:], label=\"True wind energy\")\n",
    "plt.plot(lr[0], label=\"Linear Regression\")\n",
    "plt.plot(svr[0], label=\"Supported Vector Regression\")\n",
    "plt.xlabel(\"Time\")\n",
    "plt.ylabel(\"Wind power\")\n",
    "plt.title(\"Wind power forecasts (LR and SVR)\")\n",
    "plt.legend()\n",
    "plt.show()"
   ]
  },
  {
   "cell_type": "code",
   "execution_count": null,
   "metadata": {},
   "outputs": [],
   "source": [
    "# Plot the time-series figure for ANN and RNN\n",
    "plt.figure(figsize=(14, 6))\n",
    "plt.plot(actual_power[windowsize:], label=\"True wind energy\")\n",
    "plt.plot(ann[0], label=\"Artificial Neural Network\")\n",
    "plt.plot(rnn[0], label=\"Recurrent Neural network\")\n",
    "plt.xlabel(\"Time\")\n",
    "plt.ylabel(\"Wind power\")\n",
    "plt.title(\"Wind power forecasts (ANN and RNN)\")\n",
    "plt.legend()\n",
    "plt.show()"
   ]
  },
  {
   "cell_type": "code",
   "execution_count": null,
   "metadata": {},
   "outputs": [],
   "source": [
    "# Table for Results\n",
    "table_data = [lr[0], svr[0], ann[0], rnn[0]]\n",
    "headers = [\"lr\", \"svr\", \"ann\", \"rnn\"]\n",
    "table = tabulate(table_data, headers=headers, tablefmt=\"pretty\")\n",
    "print(table)"
   ]
  }
 ],
 "metadata": {
  "kernelspec": {
   "display_name": "Python 3",
   "language": "python",
   "name": "python3"
  },
  "language_info": {
   "codemirror_mode": {
    "name": "ipython",
    "version": 3
   },
   "file_extension": ".py",
   "mimetype": "text/x-python",
   "name": "python",
   "nbconvert_exporter": "python",
   "pygments_lexer": "ipython3",
   "version": "3.9.1"
  },
  "orig_nbformat": 4
 },
 "nbformat": 4,
 "nbformat_minor": 2
}
