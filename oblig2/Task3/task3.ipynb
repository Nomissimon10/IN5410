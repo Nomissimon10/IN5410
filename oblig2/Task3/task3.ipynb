{
 "cells": [
  {
   "cell_type": "code",
   "execution_count": 65,
   "metadata": {},
   "outputs": [],
   "source": [
    "import pandas as pd\n",
    "import numpy as np\n",
    "from sklearn.linear_model import LinearRegression\n",
    "from sklearn.svm import SVR\n",
    "from sklearn.metrics import mean_squared_error\n",
    "from sklearn.preprocessing import MinMaxScaler\n",
    "from sklearn.model_selection import train_test_split\n",
    "from tensorflow.keras.models import Sequential\n",
    "from tensorflow.keras.layers import Dense, LSTM\n",
    "import tensorflow as tf\n",
    "import matplotlib.pyplot as plt\n",
    "import os"
   ]
  },
  {
   "cell_type": "code",
   "execution_count": 66,
   "metadata": {},
   "outputs": [],
   "source": [
    "working_dir = os.getcwd()"
   ]
  },
  {
   "cell_type": "code",
   "execution_count": 67,
   "metadata": {},
   "outputs": [],
   "source": [
    "# Import solution\n",
    "solution = pd.read_csv(f\"{working_dir}/../data/Solution.csv\")\n",
    "X_true = pd.to_datetime(solution['TIMESTAMP'])\n",
    "min_timestamp = X_true.min()\n",
    "X_true = (X_true - min_timestamp).dt.total_seconds() / (24 * 60 * 60)\n",
    "X_true = X_true.values.reshape(-1, 1)\n",
    "\n",
    "Y_true = solution['POWER'].values.reshape(-1, 1)"
   ]
  },
  {
   "cell_type": "code",
   "execution_count": 68,
   "metadata": {},
   "outputs": [],
   "source": [
    "# Import training data\n",
    "train_data = pd.read_csv(f\"{working_dir}/../data/TrainData.csv\")\n",
    "train_data = train_data.drop(columns=[\"U10\", \"V10\", \"WS10\", \"U100\", \"V100\", \"WS100\"])\n",
    "train_data['TIMESTAMP'] = pd.to_datetime(train_data['TIMESTAMP'])\n",
    "\n",
    "min_timestamp = train_data['TIMESTAMP'].min()\n",
    "train_data['TIMESTAMP'] = (train_data['TIMESTAMP'] - min_timestamp).dt.total_seconds() / (24 * 60 * 60)\n",
    "\n",
    "# Variables for training timestamp and power\n",
    "timestamp = train_data[\"TIMESTAMP\"].values.reshape(-1, 1)\n",
    "power = train_data[\"POWER\"].values.reshape(-1, 1)"
   ]
  },
  {
   "cell_type": "code",
   "execution_count": 69,
   "metadata": {},
   "outputs": [],
   "source": [
    "# Run Linear Regression\n",
    "lin_reg = LinearRegression()\n",
    "lin_reg.fit(timestamp, power)\n",
    "\n",
    "y_pred_lr = lin_reg.predict(X_true)\n",
    "rmse_lr = np.sqrt(mean_squared_error(Y_true, y_pred_lr))"
   ]
  },
  {
   "cell_type": "code",
   "execution_count": 70,
   "metadata": {},
   "outputs": [
    {
     "name": "stderr",
     "output_type": "stream",
     "text": [
      "c:\\Users\\Simon\\AppData\\Local\\Programs\\Python\\Python39\\lib\\site-packages\\sklearn\\utils\\validation.py:1143: DataConversionWarning: A column-vector y was passed when a 1d array was expected. Please change the shape of y to (n_samples, ), for example using ravel().\n",
      "  y = column_or_1d(y, warn=True)\n"
     ]
    }
   ],
   "source": [
    "# Run SVR\n",
    "svr = SVR()\n",
    "svr.fit(timestamp, power)\n",
    "\n",
    "y_pred_svr = svr.predict(X_true)\n",
    "rmse_svr = np.sqrt(mean_squared_error(Y_true, y_pred_svr))"
   ]
  },
  {
   "cell_type": "code",
   "execution_count": 71,
   "metadata": {},
   "outputs": [
    {
     "name": "stdout",
     "output_type": "stream",
     "text": [
      "23/23 [==============================] - 0s 1ms/step\n"
     ]
    }
   ],
   "source": [
    "## ANN\n",
    "\n",
    "# Scaling the data\n",
    "scaler_x = MinMaxScaler()\n",
    "scaler_y = MinMaxScaler()\n",
    "timestamp_scaled = scaler_x.fit_transform(timestamp)\n",
    "power_scaled = scaler_y.fit_transform(power)\n",
    "X_true_scaled = scaler_x.transform(X_true)\n",
    "\n",
    "# ANN\n",
    "# Define the ANN model\n",
    "model = Sequential()\n",
    "model.add(Dense(32, activation='relu', input_shape=(1,)))\n",
    "model.add(Dense(16, activation='relu'))\n",
    "model.add(Dense(1))\n",
    "model.compile(optimizer='adam', loss='mse')\n",
    "\n",
    "# Train the model\n",
    "model.fit(timestamp_scaled, power_scaled, epochs=100, batch_size=32, verbose=0)\n",
    "\n",
    "# Prediction using the ANN model\n",
    "y_pred_scaled = model.predict(X_true_scaled)\n",
    "\n",
    "# Inverse transform the predictions\n",
    "y_pred_ann = scaler_y.inverse_transform(y_pred_scaled)\n",
    "\n",
    "# Calculate RMSE\n",
    "rmse_ann = np.sqrt(mean_squared_error(Y_true, y_pred_ann))"
   ]
  },
  {
   "cell_type": "code",
   "execution_count": 72,
   "metadata": {},
   "outputs": [
    {
     "name": "stdout",
     "output_type": "stream",
     "text": [
      "23/23 [==============================] - 0s 1ms/step\n"
     ]
    }
   ],
   "source": [
    "# Run RNN\n",
    "model = Sequential()\n",
    "model.add(LSTM(50, activation='relu', input_shape=(1, 1)))\n",
    "model.add(Dense(1))\n",
    "model.compile(optimizer='adam', loss='mse')\n",
    "\n",
    "# Train the model\n",
    "model.fit(timestamp_scaled, power_scaled, epochs=100, batch_size=32, verbose=0)\n",
    "\n",
    "# Reshape X_true_scaled\n",
    "X_true_scaled = X_true_scaled.reshape((X_true_scaled.shape[0], 1, X_true_scaled.shape[1]))\n",
    "\n",
    "# Prediction using the RNN model\n",
    "y_pred_scaled = model.predict(X_true_scaled)\n",
    "\n",
    "# Inverse transform the predictions\n",
    "y_pred_rnn = scaler_y.inverse_transform(y_pred_scaled)\n",
    "\n",
    "# Calculate RMSE\n",
    "rmse_rnn = np.sqrt(mean_squared_error(Y_true, y_pred_rnn))"
   ]
  },
  {
   "cell_type": "code",
   "execution_count": 73,
   "metadata": {},
   "outputs": [
    {
     "name": "stdout",
     "output_type": "stream",
     "text": [
      "RMSE for LR model:  1.9111558262879182\n",
      "RMSE for SVR model: 0.3953946156694663\n",
      "RMSE for ANN model: 2.4980769133316416\n",
      "RMSE for RNN model: 0.5227660748075147\n"
     ]
    }
   ],
   "source": [
    "# Evaluation of the test set models\n",
    "print(f\"{'RMSE for LR model:':<20}{rmse_lr}\")\n",
    "print(f\"{'RMSE for SVR model:':<20}{rmse_svr}\")\n",
    "print(f\"{'RMSE for ANN model:':<20}{rmse_ann}\")\n",
    "print(f\"{'RMSE for RNN model:':<20}{rmse_rnn}\")"
   ]
  },
  {
   "cell_type": "code",
   "execution_count": 74,
   "metadata": {},
   "outputs": [],
   "source": [
    "# Save to files\n",
    "forecast_template = pd.read_csv(f'{working_dir}/../data/ForecastTemplate.csv')\n",
    "\n",
    "# LR forecast template output\n",
    "forecast_template['FORECAST'] = y_pred_lr\n",
    "forecast_template.to_csv(f'{working_dir}/results/ForecastTemplate3-LR.csv', index=False)\n",
    "\n",
    "# SVR forecast template\n",
    "forecast_template['FORECAST'] = y_pred_svr\n",
    "forecast_template.to_csv(f'{working_dir}/results/ForecastTemplate3-SVR.csv', index=False)\n",
    "\n",
    "# ANN forecast template\n",
    "forecast_template['FORECAST'] = y_pred_ann\n",
    "forecast_template.to_csv(f'{working_dir}/results/ForecastTemplate3-ANN.csv', index=False)\n",
    "\n",
    "# RNN forecast template\n",
    "forecast_template['FORECAST'] = y_pred_rnn\n",
    "forecast_template.to_csv(f'{working_dir}/results/ForecastTemplate3-RNN.csv', index=False)"
   ]
  },
  {
   "cell_type": "code",
   "execution_count": 77,
   "metadata": {},
   "outputs": [
    {
     "ename": "ValueError",
     "evalue": "Buffer has wrong number of dimensions (expected 1, got 2)",
     "output_type": "error",
     "traceback": [
      "\u001b[1;31m---------------------------------------------------------------------------\u001b[0m",
      "\u001b[1;31mValueError\u001b[0m                                Traceback (most recent call last)",
      "Cell \u001b[1;32mIn[77], line 4\u001b[0m\n\u001b[0;32m      1\u001b[0m \u001b[39m## Plot time-series\u001b[39;00m\n\u001b[0;32m      2\u001b[0m \n\u001b[0;32m      3\u001b[0m \u001b[39m# Convert the TIMESTAMP back to datetime for plotting\u001b[39;00m\n\u001b[1;32m----> 4\u001b[0m X_true_datetime \u001b[39m=\u001b[39m pd\u001b[39m.\u001b[39;49mto_datetime((X_true \u001b[39m*\u001b[39;49m (\u001b[39m24\u001b[39;49m \u001b[39m*\u001b[39;49m \u001b[39m60\u001b[39;49m \u001b[39m*\u001b[39;49m \u001b[39m60\u001b[39;49m))\u001b[39m.\u001b[39;49mastype(\u001b[39mint\u001b[39;49m), unit\u001b[39m=\u001b[39;49m\u001b[39m\"\u001b[39;49m\u001b[39ms\u001b[39;49m\u001b[39m\"\u001b[39;49m, origin\u001b[39m=\u001b[39;49mmin_timestamp)\n\u001b[0;32m      6\u001b[0m \u001b[39m# Plot the time-series figure for Linear Regression and SVR\u001b[39;00m\n\u001b[0;32m      7\u001b[0m plt\u001b[39m.\u001b[39mfigure(figsize\u001b[39m=\u001b[39m(\u001b[39m14\u001b[39m, \u001b[39m6\u001b[39m))\n",
      "File \u001b[1;32mc:\\Users\\Simon\\AppData\\Local\\Programs\\Python\\Python39\\lib\\site-packages\\pandas\\core\\tools\\datetimes.py:912\u001b[0m, in \u001b[0;36mto_datetime\u001b[1;34m(arg, errors, dayfirst, yearfirst, utc, format, exact, unit, infer_datetime_format, origin, cache)\u001b[0m\n\u001b[0;32m    910\u001b[0m         result \u001b[39m=\u001b[39m _convert_and_box_cache(arg, cache_array)\n\u001b[0;32m    911\u001b[0m     \u001b[39melse\u001b[39;00m:\n\u001b[1;32m--> 912\u001b[0m         result \u001b[39m=\u001b[39m convert_listlike(arg, \u001b[39mformat\u001b[39;49m)\n\u001b[0;32m    913\u001b[0m \u001b[39melse\u001b[39;00m:\n\u001b[0;32m    914\u001b[0m     result \u001b[39m=\u001b[39m convert_listlike(np\u001b[39m.\u001b[39marray([arg]), \u001b[39mformat\u001b[39m)[\u001b[39m0\u001b[39m]\n",
      "File \u001b[1;32mc:\\Users\\Simon\\AppData\\Local\\Programs\\Python\\Python39\\lib\\site-packages\\pandas\\core\\tools\\datetimes.py:356\u001b[0m, in \u001b[0;36m_convert_listlike_datetimes\u001b[1;34m(arg, format, name, tz, unit, errors, infer_datetime_format, dayfirst, yearfirst, exact)\u001b[0m\n\u001b[0;32m    354\u001b[0m     \u001b[39mif\u001b[39;00m \u001b[39mformat\u001b[39m \u001b[39mis\u001b[39;00m \u001b[39mnot\u001b[39;00m \u001b[39mNone\u001b[39;00m:\n\u001b[0;32m    355\u001b[0m         \u001b[39mraise\u001b[39;00m \u001b[39mValueError\u001b[39;00m(\u001b[39m\"\u001b[39m\u001b[39mcannot specify both format and unit\u001b[39m\u001b[39m\"\u001b[39m)\n\u001b[1;32m--> 356\u001b[0m     \u001b[39mreturn\u001b[39;00m _to_datetime_with_unit(arg, unit, name, tz, errors)\n\u001b[0;32m    357\u001b[0m \u001b[39melif\u001b[39;00m \u001b[39mgetattr\u001b[39m(arg, \u001b[39m\"\u001b[39m\u001b[39mndim\u001b[39m\u001b[39m\"\u001b[39m, \u001b[39m1\u001b[39m) \u001b[39m>\u001b[39m \u001b[39m1\u001b[39m:\n\u001b[0;32m    358\u001b[0m     \u001b[39mraise\u001b[39;00m \u001b[39mTypeError\u001b[39;00m(\n\u001b[0;32m    359\u001b[0m         \u001b[39m\"\u001b[39m\u001b[39marg must be a string, datetime, list, tuple, 1-d array, or Series\u001b[39m\u001b[39m\"\u001b[39m\n\u001b[0;32m    360\u001b[0m     )\n",
      "File \u001b[1;32mc:\\Users\\Simon\\AppData\\Local\\Programs\\Python\\Python39\\lib\\site-packages\\pandas\\core\\tools\\datetimes.py:528\u001b[0m, in \u001b[0;36m_to_datetime_with_unit\u001b[1;34m(arg, unit, name, tz, errors)\u001b[0m\n\u001b[0;32m    526\u001b[0m     tz_parsed \u001b[39m=\u001b[39m \u001b[39mNone\u001b[39;00m\n\u001b[0;32m    527\u001b[0m \u001b[39melse\u001b[39;00m:\n\u001b[1;32m--> 528\u001b[0m     arr, tz_parsed \u001b[39m=\u001b[39m tslib\u001b[39m.\u001b[39;49marray_with_unit_to_datetime(arg, unit, errors\u001b[39m=\u001b[39;49merrors)\n\u001b[0;32m    530\u001b[0m \u001b[39mif\u001b[39;00m errors \u001b[39m==\u001b[39m \u001b[39m\"\u001b[39m\u001b[39mignore\u001b[39m\u001b[39m\"\u001b[39m:\n\u001b[0;32m    531\u001b[0m     \u001b[39m# Index constructor _may_ infer to DatetimeIndex\u001b[39;00m\n\u001b[0;32m    532\u001b[0m     result \u001b[39m=\u001b[39m Index(arr, name\u001b[39m=\u001b[39mname)\n",
      "File \u001b[1;32mc:\\Users\\Simon\\AppData\\Local\\Programs\\Python\\Python39\\lib\\site-packages\\pandas\\_libs\\tslib.pyx:252\u001b[0m, in \u001b[0;36mpandas._libs.tslib.array_with_unit_to_datetime\u001b[1;34m()\u001b[0m\n",
      "\u001b[1;31mValueError\u001b[0m: Buffer has wrong number of dimensions (expected 1, got 2)"
     ]
    }
   ],
   "source": [
    "## Plot time-series\n",
    "\n",
    "# Convert the TIMESTAMP back to datetime for plotting\n",
    "X_true_datetime = pd.to_datetime((X_true * (24 * 60 * 60)).astype(int), unit=\"s\", origin=min_timestamp)\n",
    "\n",
    "# Plot the time-series figure for Linear Regression and SVR\n",
    "plt.figure(figsize=(14, 6))\n",
    "plt.plot(X_true_datetime, Y_true, label=\"True wind energy\")\n",
    "plt.plot(X_true_datetime, y_pred_lr, label=\"Linear Regression\")\n",
    "plt.plot(X_true_datetime, y_pred_svr, label=\"SVR\")\n",
    "plt.xlabel(\"Time\")\n",
    "plt.ylabel(\"Wind power\")\n",
    "plt.title(\"Wind power forecasts (Linear Regression and SVR)\")\n",
    "plt.legend()\n",
    "plt.show()\n",
    "\n",
    "# Plot the time-series figure for ANN and RNN\n",
    "# Please replace y_pred_ann and y_pred_rnn with the predictions from the ANN and RNN models\n",
    "plt.figure(figsize=(14, 6))\n",
    "plt.plot(X_true_datetime, Y_true, label=\"True wind energy\")\n",
    "plt.plot(X_true_datetime, y_pred_ann, label=\"ANN\")\n",
    "plt.plot(X_true_datetime, y_pred_rnn, label=\"RNN\")\n",
    "plt.xlabel(\"Time\")\n",
    "plt.ylabel(\"Wind power\")\n",
    "plt.title(\"Wind power forecasts (ANN and RNN)\")\n",
    "plt.legend()\n",
    "plt.show()"
   ]
  }
 ],
 "metadata": {
  "kernelspec": {
   "display_name": "Python 3",
   "language": "python",
   "name": "python3"
  },
  "language_info": {
   "codemirror_mode": {
    "name": "ipython",
    "version": 3
   },
   "file_extension": ".py",
   "mimetype": "text/x-python",
   "name": "python",
   "nbconvert_exporter": "python",
   "pygments_lexer": "ipython3",
   "version": "3.9.1"
  },
  "orig_nbformat": 4
 },
 "nbformat": 4,
 "nbformat_minor": 2
}
