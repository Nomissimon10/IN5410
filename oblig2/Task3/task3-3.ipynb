{
 "cells": [
  {
   "cell_type": "code",
   "execution_count": 6,
   "metadata": {},
   "outputs": [],
   "source": [
    "import pandas as pd\n",
    "import numpy as np\n",
    "import os\n",
    "import matplotlib.pyplot as plt"
   ]
  },
  {
   "cell_type": "code",
   "execution_count": 7,
   "metadata": {},
   "outputs": [],
   "source": [
    "working_dir = os.getcwd()\n",
    "windowsize = 1"
   ]
  },
  {
   "cell_type": "code",
   "execution_count": 8,
   "metadata": {},
   "outputs": [],
   "source": [
    "def read_training_data():\n",
    "    df = pd.read_csv(f\"{working_dir}/../data/TrainData.csv\", sep=',')\n",
    "    windspeed_training = df[\"WS10\"].to_numpy().reshape((-1, 1))\n",
    "    power_training = df[\"POWER\"].to_numpy()\n",
    "    u = df[\"U10\"].to_numpy()\n",
    "    v = df[\"V10\"].to_numpy()\n",
    "    wind_direction_training = np.mod(180 + np.rad2deg(np.arctan2(v, u)), 360)\n",
    "\n",
    "    return windspeed_training, power_training, wind_direction_training\n",
    "\n",
    "\n",
    "def read_input_data():\n",
    "    df = pd.read_csv(f\"{working_dir}/../data/WeatherForecastInput.csv\", sep=',')\n",
    "    windspeed_input = df[\"WS10\"].to_numpy().reshape((-1, 1))\n",
    "    u_input = df[\"U10\"].to_numpy()\n",
    "    v_input = df[\"V10\"].to_numpy()\n",
    "    direction_input = np.mod(180 + np.rad2deg(np.arctan2(v_input, u_input)), 360).reshape((-1, 1))\n",
    "    windspeed_and_direction_input = np.concatenate((windspeed_input, direction_input), axis=1)\n",
    "\n",
    "    return windspeed_input, direction_input, windspeed_and_direction_input\n",
    "\n",
    "def read_solution():\n",
    "    df = pd.read_csv(f\"{working_dir}/../data/Solution.csv\", sep=',')\n",
    "    actual_power = df[\"POWER\"].to_numpy()\n",
    "    timestamp = df[\"TIMESTAMP\"].to_numpy()\n",
    "\n",
    "    return actual_power, timestamp"
   ]
  },
  {
   "cell_type": "code",
   "execution_count": 9,
   "metadata": {},
   "outputs": [],
   "source": [
    "def create_timeseries(powers, windowsize):\n",
    "    rows = len(powers) - windowsize\n",
    "    x = np.zeros((rows, windowsize))\n",
    "    y = np.zeros(rows)\n",
    "\n",
    "    for i in range(rows):\n",
    "        for j in range(windowsize):\n",
    "            x[i][j] = powers[i + j]\n",
    "\n",
    "        y[i] = powers[i + windowsize]\n",
    "\n",
    "    return x, y"
   ]
  },
  {
   "cell_type": "code",
   "execution_count": 10,
   "metadata": {},
   "outputs": [],
   "source": [
    "training_data = read_training_data()\n",
    "windspeed_training = training_data[0]\n",
    "power_training = training_data[1]\n",
    "\n",
    "input_data = read_input_data()\n",
    "windspeed_input = input_data[0]\n",
    "wind_direction = input_data[1]\n",
    "windspeed_and_direction_input = input_data[2]\n",
    "\n",
    "solution = read_solution()\n",
    "actual_power = solution[0]\n",
    "timestamp = solution[1]"
   ]
  },
  {
   "cell_type": "code",
   "execution_count": 11,
   "metadata": {},
   "outputs": [],
   "source": [
    "x, y = create_timeseries(power_training, windowsize)\n",
    "forecast_input = create_timeseries(actual_power, windowsize)[0]"
   ]
  },
  {
   "cell_type": "code",
   "execution_count": null,
   "metadata": {},
   "outputs": [],
   "source": [
    "from sklearn.linear_model import LinearRegression\n",
    "\n",
    "\n",
    "def timeseries_linear_regression(x, y, forecast_input, actual_power, windowsize):\n",
    "    model = LinearRegression()\n",
    "    model.fit(x, y)\n",
    "    predicted_power = model.predict(forecast_input)\n",
    "\n",
    "    actual_power_comparison = actual_power[windowsize:]\n",
    "\n",
    "    # rmse = RMSE(actual_power_comparison, predicted_power)\n",
    "\n",
    "    return predicted_power#, rmse"
   ]
  },
  {
   "cell_type": "code",
   "execution_count": null,
   "metadata": {},
   "outputs": [],
   "source": [
    "ts_lin_reg = timeseries_linear_regression(x, y, forecast_input, actual_power, windowsize)"
   ]
  },
  {
   "cell_type": "code",
   "execution_count": null,
   "metadata": {},
   "outputs": [],
   "source": [
    "# Plot the time-series figure for Linear Regression and SVR\n",
    "plt.figure(figsize=(14, 6))\n",
    "plt.plot(actual_power[windowsize:], label=\"True wind energy\")\n",
    "plt.plot(ts_lin_reg, label=\"Linear Regression\")\n",
    "# plt.plot(X_true_datetime, y_pred_svr, label=\"SVR\")\n",
    "plt.xlabel(\"Time\")\n",
    "plt.ylabel(\"Wind power\")\n",
    "plt.title(\"Wind power forecasts (Linear Regression and SVR)\")\n",
    "plt.legend()\n",
    "plt.show()"
   ]
  }
 ],
 "metadata": {
  "kernelspec": {
   "display_name": "Python 3",
   "language": "python",
   "name": "python3"
  },
  "language_info": {
   "codemirror_mode": {
    "name": "ipython",
    "version": 3
   },
   "file_extension": ".py",
   "mimetype": "text/x-python",
   "name": "python",
   "nbconvert_exporter": "python",
   "pygments_lexer": "ipython3",
   "version": "3.9.1"
  },
  "orig_nbformat": 4
 },
 "nbformat": 4,
 "nbformat_minor": 2
}
