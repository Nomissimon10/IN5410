{
 "cells": [
  {
   "cell_type": "code",
   "execution_count": null,
   "metadata": {},
   "outputs": [],
   "source": [
    "import pandas as pd\n",
    "import numpy as np\n",
    "from sklearn.linear_model import LinearRegression\n",
    "from sklearn.svm import SVR\n",
    "from sklearn.metrics import mean_squared_error\n",
    "from sklearn.preprocessing import MinMaxScaler\n",
    "from sklearn.model_selection import train_test_split\n",
    "from tensorflow.keras.models import Sequential\n",
    "from tensorflow.keras.layers import Dense, LSTM\n",
    "from tensorflow.keras.layers import Dense, SimpleRNN, LSTM\n",
    "import tensorflow as tf\n",
    "import matplotlib.pyplot as plt\n",
    "import os"
   ]
  },
  {
   "cell_type": "code",
   "execution_count": null,
   "metadata": {},
   "outputs": [],
   "source": [
    "working_dir = os.getcwd()"
   ]
  },
  {
   "cell_type": "code",
   "execution_count": null,
   "metadata": {},
   "outputs": [],
   "source": [
    "train_data = pd.read_csv(f\"{working_dir}/../data/TrainData.csv\")\n",
    "train_data = train_data.drop(columns=[\"U10\", \"V10\", \"WS10\", \"U100\", \"V100\", \"WS100\"])\n",
    "weather_forecast_input = pd.read_csv(f\"{working_dir}/../data/WeatherForecastInput.csv\")\n",
    "\n",
    "solution = pd.read_csv(f\"{working_dir}/../data/Solution.csv\")\n",
    "X_true = solution[\"TIMESTAMP\"].apply(lambda x: x[-2:]).astype(int).values.reshape(-1, 1)\n",
    "\n",
    "X = train_data[\"TIMESTAMP\"].apply(lambda x: x[-2:]).astype(int).values.reshape(-1, 1)\n",
    "y = train_data[\"POWER\"].values\n",
    "\n",
    "from sklearn.model_selection import train_test_split\n",
    "\n",
    "X_train, X_test, y_train, y_test = train_test_split(X, y, test_size=0.2, random_state=42)"
   ]
  },
  {
   "cell_type": "code",
   "execution_count": null,
   "metadata": {},
   "outputs": [],
   "source": [
    "# def prepare_data(data, window_size):\n",
    "#     X, y = [], []\n",
    "#     for i in range(len(data) - window_size):\n",
    "#         X.append(data[i: i + window_size])\n",
    "#         y.append(data[i + window_size])\n",
    "\n",
    "#     return np.array(X), np.array(y)\n",
    "\n",
    "# window_size = 24\n",
    "# X_train, y_train = prepare_data(train_data[\"POWER\"], window_size)\n",
    "# X_test = weather_forecast_input[\"TIMESTAMP\"].apply(lambda x: x[-2:]).astype(int).values\n",
    "# print(X_train.shape)\n",
    "# X_train = X_train.reshape(-1, 1)\n",
    "# print(X_train.shape)\n",
    "# X_test = X_test.reshape(-1, 1)"
   ]
  },
  {
   "cell_type": "code",
   "execution_count": null,
   "metadata": {},
   "outputs": [],
   "source": [
    "# Linear Regression\n",
    "lr_model = LinearRegression()\n",
    "lr_model.fit(X_train, y_train)\n",
    "lr_predictions = lr_model.predict(X_true)\n",
    "\n",
    "# Support Vector Regression\n",
    "svr_model = SVR()\n",
    "svr_model.fit(X_train, y_train)\n",
    "svr_predictions = svr_model.predict(X_true)\n",
    "\n",
    "# # Artificial Neural Network\n",
    "# ann_model = Sequential()\n",
    "# ann_model.add(Dense(units=50, activation='relu', input_dim=1))\n",
    "# ann_model.add(Dense(units=1))\n",
    "# ann_model.compile(optimizer='adam', loss='mean_squared_error')\n",
    "# ann_model.fit(X_train, y_train, epochs=100, batch_size=32, verbose=0)\n",
    "# ann_predictions = ann_model.predict(X_test)\n",
    "\n",
    "# # Recurrent Neural Network\n",
    "# X_train_rnn = np.reshape(X_train, (X_train.shape[0], 1, X_train.shape[1]))\n",
    "# rnn_model = Sequential()\n",
    "# rnn_model.add(SimpleRNN(units=50, activation='relu', input_shape=(10, 1)))\n",
    "# rnn_model.add(Dense(units=1))\n",
    "# rnn_model.compile(optimizer='adam', loss='mean_squared_error')\n",
    "# rnn_model.fit(X_train_rnn, y_train, epochs=100, batch_size=32, verbose=0)\n",
    "# X_test_rnn = np.reshape(X_test, (X_test.shape[0], 1, 1))\n",
    "# rnn_predictions = rnn_model.predict(X_test_rnn)"
   ]
  },
  {
   "cell_type": "code",
   "execution_count": null,
   "metadata": {},
   "outputs": [],
   "source": [
    "forecast_template = pd.DataFrame({\"TIMESTAMP\": solution[\"TIMESTAMP\"]})\n",
    "\n",
    "forecast_template[\"POWER\"] = lr_predictions\n",
    "forecast_template.to_csv(\"ForecastTemplate3-LR.csv\", index=False)\n",
    "\n",
    "forecast_template[\"POWER\"] = svr_predictions\n",
    "forecast_template.to_csv(\"ForecastTemplate3-SVR.csv\", index=False)\n",
    "\n",
    "# forecast_template[\"POWER\"] = ann_predictions.flatten()\n",
    "# forecast_template.to_csv(\"ForecastTemplate3-ANN.csv\", index=False)\n",
    "\n",
    "# forecast_template[\"POWER\"] = rnn_predictions.flatten()\n",
    "# forecast_template.to_csv(\"ForecastTemplate3-RNN.csv\", index=False)"
   ]
  },
  {
   "cell_type": "code",
   "execution_count": null,
   "metadata": {},
   "outputs": [],
   "source": [
    "def rmse(true_values, predictions):\n",
    "    return np.sqrt(mean_squared_error(true_values, predictions))\n",
    "\n",
    "true_power = solution[\"POWER\"].values\n",
    "\n",
    "lr_rmse = rmse(true_power, lr_predictions)\n",
    "svr_rmse = rmse(true_power, svr_predictions)\n",
    "# ann_rmse = rmse(true_power, ann_predictions)\n",
    "# rnn_rmse = rmse(true_power, rnn_predictions)"
   ]
  },
  {
   "cell_type": "code",
   "execution_count": null,
   "metadata": {},
   "outputs": [],
   "source": [
    "comparison_table = pd.DataFrame({\"Model\": [\"Linear Regression\", \"Support Vector Regression\"], \"RMSE\": [lr_rmse, svr_rmse]})\n",
    "print(comparison_table)"
   ]
  },
  {
   "cell_type": "code",
   "execution_count": null,
   "metadata": {},
   "outputs": [],
   "source": [
    "# Graph\n",
    "min_timestamp = train_data['TIMESTAMP'].min()\n",
    "X_true_datetime = pd.to_datetime(((X_true * (24 * 60 * 60)).astype(int)).flatten(), unit=\"s\", origin=min_timestamp)\n",
    "\n",
    "# Plot the time-series figure for Linear Regression and SVR\n",
    "plt.figure(figsize=(14, 6))\n",
    "plt.plot(X_true_datetime, solution['POWER'].values, label=\"True wind energy\")\n",
    "plt.plot(X_true_datetime, lr_predictions, label=\"Linear Regression\")\n",
    "plt.plot(X_true_datetime, svr_predictions, label=\"SVR\")\n",
    "plt.xlabel(\"Time\")\n",
    "plt.ylabel(\"Wind power\")\n",
    "plt.title(\"Wind power forecasts (Linear Regression and SVR)\")\n",
    "plt.legend()\n",
    "plt.show()"
   ]
  }
 ],
 "metadata": {
  "kernelspec": {
   "display_name": "Python 3",
   "language": "python",
   "name": "python3"
  },
  "language_info": {
   "codemirror_mode": {
    "name": "ipython",
    "version": 3
   },
   "file_extension": ".py",
   "mimetype": "text/x-python",
   "name": "python",
   "nbconvert_exporter": "python",
   "pygments_lexer": "ipython3",
   "version": "3.9.13"
  },
  "orig_nbformat": 4
 },
 "nbformat": 4,
 "nbformat_minor": 2
}
